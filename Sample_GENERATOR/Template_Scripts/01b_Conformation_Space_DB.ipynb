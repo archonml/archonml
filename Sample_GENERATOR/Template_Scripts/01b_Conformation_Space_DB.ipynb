{
 "cells": [
  {
   "cell_type": "markdown",
   "id": "faf24bd0",
   "metadata": {},
   "source": [
    "# DB Starter documentation\n",
    "\n",
    "### About\n",
    "This IPython sample notebook is a generator tool for the database folder-structure and input files for the supported quantum-chemistry packages. Note that this DB Starter version will perform a conformer scan.<br>\n",
    "\n",
    "Since writing all structures / inputs at once is not necessarily useful before one knows if any of the properties can be learned efficiently, all generator steps are performed in random subsets of the Database entries. The notebook has one general \"Input Section\" (which has to be run every time to initialize the Generator), as well as three different Parts (A-C) that may be used independently. A guide to which calculation types are available for auto-generation and how you can include new calculation types can be found in the documentation. Also, you can find an explanation on how to correctly set up your required \"CoreStructure.xyz\" file and the Fragment library there.\n",
    "<br><br>\n",
    "Please, make sure to carefully read all cell's contents as well as their commentaries, as this will help you properly executing the notebook.\n",
    "<br><br>\n",
    "\n",
    "### Input Section\n",
    "A section that defines how the database folder-structure should be set up.\n",
    "<br><br>\n",
    "\n",
    "### Part A\n",
    "Part A samples a random part of all available database entries for performing unbiased, randomized training. This way you can stepwise increase the amount of training data. The output of this part is a library file, containing the desired number of samples in a format compatible to everything else that ArchOnML requires.\n",
    "<br><br>\n",
    "\n",
    "### Part B\n",
    "Part B sets up the database folder-structure and generates the starting Guess xyz-structures for all subsequent machine-learning tasks of a specific sample, that was obtained within Part A.\n",
    "<br><br>\n",
    "\n",
    "### Part C\n",
    "Part C can be used to set up specific calculation inputs for the external quantum chemistry program packages that are supported by ArchOnML. It reads a user-specified library file to write new input files that can carry out your desired calculation type in a way that can be directly read by ArchOnML's Machine Learning routines."
   ]
  },
  {
   "cell_type": "code",
   "execution_count": null,
   "id": "ef53dc27",
   "metadata": {},
   "outputs": [],
   "source": [
    "import os\n",
    "import sys\n",
    "import time\n",
    "import concurrent.futures\n",
    "from copy import deepcopy as dc\n",
    "\n",
    "import numpy as np\n",
    "from IPython.display import display, clear_output\n",
    "np.set_printoptions(suppress=True)\n",
    "\n",
    "from archonml import generate\n",
    "from archonml.utils import timeconv\n",
    "from archonml.common import PSEDICT, PSEIDICT\n",
    "from archonml.generate import full_junc_once, junction"
   ]
  },
  {
   "cell_type": "markdown",
   "id": "b21a93e2",
   "metadata": {},
   "source": [
    "# Input Section Cells\n",
    "These have to be run any time you want to use the Generator."
   ]
  },
  {
   "cell_type": "code",
   "execution_count": null,
   "id": "9c55b500",
   "metadata": {},
   "outputs": [],
   "source": [
    "# The following _has to be_ user defined.\n",
    "ProjName          = \"PROJ\"                                   # Name Prefix for the Database.\n",
    "FragStrucLib      = []                                       # Library of Substituent Fragments.\n",
    "                                                             # Leave empty for conformer scan !!!\n",
    "    \n",
    "ConformerStrucFID = \"../Sample_Conformers.xyz\"               # File containing the Conformer Scan from (for example) a crest calculation.\n",
    "                                                             # Expects xyz format with all structures in one file. Energetic ordering not required.\n",
    "\n",
    "StrucLib     = \"./Guesses_{}.library\".format(ProjName)  # This file contains the names and addresses of all individual structures to be written.\n",
    "MergePath    = \"../SemiEmpData_{}/\".format(ProjName)    # Path for the MergeFiles.\n",
    "GuessPath    = \"../Guesses_{}/\".format(ProjName)        # Path for the Guess structures to be generated.\n",
    "DBPath       = \"../../DATABASE/\"                        # Main Path for the QC Data.\n",
    "\n",
    "# Folder generation for the Database.\n",
    "# Note that for a conformer scan, the \"fingerprints\" get replaced by mere pointers. For a conformer scan, the parameters Fold_Lx will just break down the amount of structures evenly.\n",
    "# Example : Setting to 3 and 4 will create 3 folders on the first level, and 4 subfolders in each of the levels.\n",
    "#           All structures are then equally distributed into the 3 * 4 = 12 total folders.\n",
    "\n",
    "Fold_L1      = 3                                        # Tree hierarchy for subfolder-generation; level one depth.\n",
    "Fold_L2      = 4                                        # Tree hierarchy for subfolder-generation; level two depth.\n",
    "\n",
    "GenInstance  = generate.DBGenerator(ProjName, FragStrucLib, ConformerStrucFID, StrucLib, MergePath, GuessPath, DBPath, Fold_L1, Fold_L2)\n",
    "FINGERPRINTS = GenInstance.gen_fingers()"
   ]
  },
  {
   "cell_type": "code",
   "execution_count": null,
   "id": "04394c9e",
   "metadata": {},
   "outputs": [],
   "source": [
    "# This cell needs to be run only once at Database initialisation. Afterwards, it should be \"commented out\" with a \"#\" for this project folder.\n",
    "GenInstance.gen_db_folders()"
   ]
  },
  {
   "cell_type": "markdown",
   "id": "6124a39b",
   "metadata": {},
   "source": [
    "### Guess storage\n",
    "Entries are written to the Guesses.library file. This also needs to be done only once!"
   ]
  },
  {
   "cell_type": "code",
   "execution_count": null,
   "id": "f12989cc",
   "metadata": {},
   "outputs": [],
   "source": [
    "# Write the Guess Structure Library to file after database reduction - needs to be done only once!\n",
    "LID   = open(StrucLib, \"w\")\n",
    "for ii in range(len(FINGERPRINTS)):\n",
    "    LocFing    = FINGERPRINTS[ii]\n",
    "    FingString = \"\"\n",
    "    LocLead    = FINGERPRINTS[ii][0]\n",
    "    for jj in range(len(LocFing)-1):\n",
    "        FingString += str(int(LocFing[jj]))+\",\"\n",
    "    FingString += str(int(LocFing[-1]))\n",
    "    # Generate the Level 1 path depending on Fold_L1\n",
    "    LocPL1 = str(int(FINGERPRINTS[ii][0]))+\"/\"\n",
    "    # Generate the Level 2 path depending on Fold_L2\n",
    "    LocPL2 = str(int(FINGERPRINTS[ii][0]))+\"_\"+str(int(FINGERPRINTS[ii][1]))+\"/\"\n",
    "    LocPath = GuessPath+LocPL1+LocPL2+\"Guess_\"+FingString+\".xyz\"\n",
    "    LocLib  = \"{}{}\\t\\t\\t{}\\t\\t\\t{}\\n\".format(ProjName, ii+1, FingString, LocPath)\n",
    "    LID.write(LocLib)\n",
    "LID.close()"
   ]
  },
  {
   "cell_type": "markdown",
   "id": "51b27158",
   "metadata": {},
   "source": [
    "### Database retrieval\n",
    "In case that the database was reduced by symmetry or other rules, we can skip this lengthy process after it has been performed once. "
   ]
  },
  {
   "cell_type": "code",
   "execution_count": null,
   "id": "74c686e7",
   "metadata": {},
   "outputs": [],
   "source": [
    "# Skip symmetry determination, if all (symmetry)-reduced structures have been written to GuessLib file already.\n",
    "FID  = open(StrucLib, \"r\")\n",
    "FLoc = FID.readlines()\n",
    "FID.close()\n",
    "FList = []\n",
    "FingLen = len((FLoc[0].split()[1]).split(\",\"))\n",
    "for ii in range(len(FLoc)):\n",
    "    Aux   = (FLoc[ii].split()[1]).split(\",\")\n",
    "    LocFP = [int(x)*1.0 for x in Aux]\n",
    "    FList.append(np.asanyarray(LocFP))\n",
    "FINGERPRINTS = dc(FList)\n",
    "GenInstance.FINGERPRINTS = dc(FList)\n",
    "print(\"Keeping {} entries that have unique fingerprints.\".format(len(FList)))"
   ]
  },
  {
   "cell_type": "markdown",
   "id": "61c0f3aa",
   "metadata": {},
   "source": [
    "# PART A Cells"
   ]
  },
  {
   "cell_type": "markdown",
   "id": "839fa70d",
   "metadata": {},
   "source": [
    "### Sampling N random structures for Training / Testing / Predictions\n",
    "This part may be run independently from Part A or C."
   ]
  },
  {
   "cell_type": "code",
   "execution_count": null,
   "id": "afc729ac",
   "metadata": {},
   "outputs": [],
   "source": [
    "# Specify the static \"Sampled\" library. This file will keep track of which structures have already been sampled before.\n",
    "# Do not change this name after the first sampling.\n",
    "SampLib   = \"./SampleLib_{}\".format(ProjName)\n",
    "\n",
    "# Specify the local subset library name. These should be unique every time you want to sample a subset.\n",
    "LocSetLib = \"./Sample_1_1k_{}\".format(ProjName)\n",
    "\n",
    "# Specify the number of desired samples drawn from the full library.\n",
    "NSamp     = 1000\n",
    "\n",
    "# Flavor of Randomness. False means that system time is used for ensuring randomness. True sets a fixed RandomSeed; which is only really useful for debugging purposes.\n",
    "FixedSeed  = False"
   ]
  },
  {
   "cell_type": "code",
   "execution_count": null,
   "id": "c09ad22a",
   "metadata": {},
   "outputs": [],
   "source": [
    "# Generate a sample.\n",
    "GenInstance.sample(SampLib, LocSetLib, NSamp, FixedSeed)"
   ]
  },
  {
   "cell_type": "markdown",
   "id": "806511a5",
   "metadata": {},
   "source": [
    "# PART B Cells"
   ]
  },
  {
   "cell_type": "markdown",
   "id": "7efb15a4",
   "metadata": {},
   "source": [
    "### Extraction of Guess Structures"
   ]
  },
  {
   "cell_type": "code",
   "execution_count": null,
   "id": "0754e165",
   "metadata": {},
   "outputs": [],
   "source": [
    "# This cell will save the selected xyz structures to hard-disk. On-the-fly writing of the structure library at the same time.\n",
    "cnt   = 0\n",
    "tTot  = 0\n",
    "incnt = 0\n",
    "now   = time.time()\n",
    "\n",
    "GenSample  = \"./Sample_1_1k_{}\".format(ProjName)   # Sample, for which Guess structures shall be generated.\n",
    "FID  = open(GenSample, \"r\")\n",
    "FLoc = FID.readlines()\n",
    "FID.close()\n",
    "GID  = open(ConformerStrucFID, \"r\")\n",
    "GLoc = GID.readlines()\n",
    "GID.close()\n",
    "\n",
    "NAt  = int(GLoc[0].split()[0])                  # This assumes that each conformer (frame) has the same number of atoms\n",
    "BlockLength = NAt + 2\n",
    "\n",
    "for ii in range(len(FLoc)):\n",
    "    LocFing = FLoc[ii].split()[1]               # Current Fingerprint\n",
    "    Frame   = int(LocFing.split(\",\")[-1])       # \"Frame\" of the xyz File (first frame is counted at 1 !)\n",
    "    \n",
    "    # Generate Path\n",
    "    LocPL1  = \"{}/\".format(LocFing.split(\",\")[0])\n",
    "    LocPL2  = \"{}_{}/\".format(LocFing.split(\",\")[0], LocFing.split(\",\")[1])\n",
    "    LocPath = GuessPath + LocPL1 + LocPL2 + \"Guess_\" + LocFing + \".xyz\"\n",
    "    \n",
    "    # Move \"line\" to current molecule \"frame\"\n",
    "    line    = (Frame-1) * BlockLength\n",
    "    OID = open(LocPath, 'w')\n",
    "    for _ in range(BlockLength):\n",
    "        OID.write(GLoc[line])\n",
    "        line += 1\n",
    "    OID.close()\n",
    "    cnt  += 1\n",
    "    Perc  = cnt / len(FLoc)\n",
    "    UpdThrsh = 0.001\n",
    "    if Perc > UpdThrsh+(incnt*UpdThrsh):\n",
    "        then  = time.time()\n",
    "        tReq  = then-now\n",
    "        tTot += tReq\n",
    "        mReq  = tTot / cnt\n",
    "        Rem   = float(len(FLoc)-cnt)*mReq\n",
    "        clear_output(wait=True)\n",
    "        STR1  = \"Finished {:.2f} % ({}) of all structures ({}) in {:.1f} seconds ({}).\\n\".format(Perc*100, cnt, len(FLoc), tTot, timeconv(tTot),)\n",
    "        STR2  = \"Required {:.3f} seconds on average for each structure.\\n\".format(mReq)\n",
    "        STR3  = \"Expecting {:.1f} seconds remaining.({})\\n\".format(Rem, timeconv(Rem))\n",
    "        print(STR1+STR2+STR3)\n",
    "        incnt += 1\n",
    "        now    = time.time()"
   ]
  },
  {
   "cell_type": "markdown",
   "id": "ded904ee",
   "metadata": {},
   "source": [
    "# PART C Cells\n",
    "This part may be run independently from Part A or B - but requires the existence of some libraries that were generated with Part B at some point.\n",
    "Note, that the \"Conf\" calculation types below directly use the geometries from the provided conformer \".xyz\" file.\n",
    "\n",
    "In other words, no further (pre-)optimizations are to be performed, since this would (most likely) change the conformer space drastically."
   ]
  },
  {
   "cell_type": "markdown",
   "id": "a9ca9172",
   "metadata": {},
   "source": [
    "#### Step 1 - Run the Semi-Empirical Orbital Energy calculations"
   ]
  },
  {
   "cell_type": "code",
   "execution_count": null,
   "id": "6878c9b5",
   "metadata": {},
   "outputs": [],
   "source": [
    "# Specify, for which (sub)library to generate the input files.\n",
    "GenLib     = \"./Sample_1_1k_{}\".format(ProjName)\n",
    "# Specify, for which external quantum-chemistry program to generate calculation inputs.\n",
    "QCPack     = \"orca\"\n",
    "# Specify, which calculation type to generate.\n",
    "CalType    = \"OrbEns_Solv_Conf\"\n",
    "# Specify, which calculation flavor to use.\n",
    "CalFlav    = \"PM3\"\n",
    "# Specify a name of the calculation path library that is to be written. (This may make it easier for you to start thousands of calculations on a HPC system)\n",
    "CalPathLib = \"./SampleCalcs_1_1k_{}\".format(ProjName)\n",
    "\n",
    "# Epsilon and Refraction parameters for the CPCM model - here, settings for diethylether (as in the sample).\n",
    "CalEps     = 4.34\n",
    "CalRefrac   = 1.3497"
   ]
  },
  {
   "cell_type": "code",
   "execution_count": null,
   "id": "53771241",
   "metadata": {},
   "outputs": [],
   "source": [
    "# Generate the input files and path library.\n",
    "GenInstance.gen_calcs(GenLib, QCPack, CalType, CalFlav, CalPathLib, epsilon=CalEps, refrac=CalRefrac)"
   ]
  },
  {
   "cell_type": "code",
   "execution_count": null,
   "id": "686246bb",
   "metadata": {},
   "outputs": [],
   "source": [
    "# Run OrbEns Calculations with the external software now."
   ]
  },
  {
   "cell_type": "markdown",
   "id": "03c61321",
   "metadata": {},
   "source": [
    "#### Step 2 - Run the TDDFT calculations (here, singlets only)"
   ]
  },
  {
   "cell_type": "code",
   "execution_count": null,
   "id": "e55e2df0",
   "metadata": {},
   "outputs": [],
   "source": [
    "# Specify, for which (sub)library to generate the input files.\n",
    "GenLib     = \"./Sample_1_1k_{}\".format(ProjName)\n",
    "# Specify, for which external quantum-chemistry program to generate calculation inputs.\n",
    "QCPack     = \"orca\"\n",
    "# Specify, which calculation type to generate.\n",
    "CalType    = \"TDSn_Solv_Conf\"\n",
    "# Specify, which calculation flavor to use.\n",
    "CalFlav    = \"CB3LG\"\n",
    "# Specify a name of the calculation path library that is to be written. (This may make it easier for you to start thousands of calculations on a HPC system)\n",
    "CalPathLib = \"./SampleCalcs_1_1k_{}\".format(ProjName)\n",
    "\n",
    "# Specify further arguments for your desired calculation. For example the number of excited states to calculate.\n",
    "# Epsilon and Refraction parameters for the CPCM model - here, settings for diethylether (as in the sample).\n",
    "CalEps     = 4.34\n",
    "CalRefrac  = 1.3497\n",
    "\n",
    "# Number of states to be calculated in the TDDFT calculation.\n",
    "nstates    = 12"
   ]
  },
  {
   "cell_type": "code",
   "execution_count": null,
   "id": "8fdb0e64",
   "metadata": {},
   "outputs": [],
   "source": [
    "# Generate the input files and path library.\n",
    "GenInstance.gen_calcs(GenLib, QCPack, CalType, CalFlav, CalPathLib, epsilon=CalEps, refrac=CalRefrac, nstates=nstates)"
   ]
  },
  {
   "cell_type": "code",
   "execution_count": null,
   "id": "88a513b9",
   "metadata": {},
   "outputs": [],
   "source": [
    "# Run TDSn Calculations with the external software now."
   ]
  }
 ],
 "metadata": {
  "kernelspec": {
   "display_name": "Python 2",
   "language": "python",
   "name": "python2"
  },
  "language_info": {
   "codemirror_mode": {
    "name": "ipython",
    "version": 2
   },
   "file_extension": ".py",
   "mimetype": "text/x-python",
   "name": "python",
   "nbconvert_exporter": "python",
   "pygments_lexer": "ipython2",
   "version": "2.7.18"
  }
 },
 "nbformat": 4,
 "nbformat_minor": 5
}
