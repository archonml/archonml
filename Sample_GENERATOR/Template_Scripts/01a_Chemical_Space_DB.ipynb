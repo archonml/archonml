{
 "cells": [
  {
   "cell_type": "markdown",
   "id": "46970e01",
   "metadata": {},
   "source": [
    "# DB Starter documentation\n",
    "\n",
    "### About\n",
    "This IPython sample notebook is a generator tool for the database folder-structure and input files for the supported quantum-chemistry packages. Note that this DB Starter version is set up to perform a chemical space scan.<br>\n",
    "\n",
    "Since writing all structures / inputs at once is not necessarily useful before one knows if any of the properties can be learned efficiently, all generator steps are performed in random samples of the Database entries. The notebook has one general \"Input Section\" (which has to be run every time to initialize the Generator), as well as three different Parts (A-C) that may be used independently. A guide to which calculation types are available for auto-generation and how you can include new calculation types can be found in the documentation. Also, you can find an explanation on how to correctly set up your required \"CoreStructure.xyz\" file and the Fragment library there.\n",
    "<br><br>\n",
    "Note that several code cells can be deactivated (i.e. \"commented out\") after they have been performed once - which will save tremendous amounts of time. Therefore, please make sure to carefully read all cell's contents as well as their commentaries, as this will help you properly executing the notebook.\n",
    "<br><br>\n",
    "\n",
    "### Input Section\n",
    "A section where you define how the database folder-structure should be set up. This part includes generating/loading of all possible fingerprints. Also, in here the symmetry-reduction of the fingerprints is to be performed.\n",
    "<br><br>\n",
    "\n",
    "### Part A\n",
    "Part A samples a random part of all available database entries for performing unbiased, randomized training. This way you can stepwise increase the amount of training data. The output of this part is a library file, containing the desired number of samples in a format compatible to everything else that ArchOnML requires.\n",
    "<br><br>\n",
    "\n",
    "### Part B\n",
    "Part B sets up the database folder-structure and generates the starting Guess xyz-structures for all subsequent machine-learning tasks of a specific sample, that was obtained within Part A.\n",
    "<br><br>\n",
    "\n",
    "### Part C\n",
    "Part C can be used to set up specific calculation inputs for the external quantum chemistry program packages that are supported by ArchOnML. It reads a user-specified library file to write new input files that can carry out your desired calculation type in a way that can be directly read by ArchOnML's Machine Learning routines."
   ]
  },
  {
   "cell_type": "code",
   "execution_count": null,
   "id": "c3f8f081",
   "metadata": {},
   "outputs": [],
   "source": [
    "import os, sys, time\n",
    "import concurrent.futures\n",
    "from copy import deepcopy as dc\n",
    "\n",
    "import numpy as np\n",
    "from IPython.display import display, clear_output\n",
    "np.set_printoptions(suppress=True)\n",
    "\n",
    "from archonml import generate\n",
    "from archonml.utils import timeconv\n",
    "from archonml.common import PSEDICT, PSEIDICT\n",
    "from archonml.generate import full_junc_once, junction"
   ]
  },
  {
   "cell_type": "markdown",
   "id": "549982c0",
   "metadata": {},
   "source": [
    "# Input Section Cells\n",
    "These have to be run any time you want to use the Generator."
   ]
  },
  {
   "cell_type": "code",
   "execution_count": null,
   "id": "bff177eb",
   "metadata": {},
   "outputs": [],
   "source": [
    "# The following _has to be_ user defined.\n",
    "ProjName     = \"PROJ\"                                   # Name Prefix for the Database.\n",
    "FragStrucLib = \"../Substituents.library\"                   # File containing the Fragment folders and names.\n",
    "CoreStrucFID = \"../Sample_CoreStructure.xyz\"                   # File containing the substituent-marked core structure.\n",
    "\n",
    "# This _can_ be changed by the user, if desired.\n",
    "StrucLib     = \"./Guesses_{}.library\".format(ProjName)  # This file contains the names and addresses of all Guess structures to be written.\n",
    "                                                        # It is created _after_ database-reduction, so that the reduction may be skipped after performing it once.\n",
    "MergePath    = \"../SemiEmpData_{}/\".format(ProjName)    # Path for the MergeFiles.\n",
    "GuessPath    = \"../Guesses_{}/\".format(ProjName)        # Path for the Guess structures to be generated.\n",
    "DBPath       = \"../../DATABASE/\"                        # Main Path for the QC Data.\n",
    "\n",
    "# Folder generation for the Database. The parameters Fold_L1 and Fold_L2 are giving the depths of the folder hierarchy.\n",
    "# If deeper hierarchies are required, this should be implemented here at some point.\n",
    "# A reasonable choice is to keep level (L1) one at 1, and choose level 2 (L2) to be half of the maximum fingerprint length.\n",
    "Fold_L1      = 1                                        # Tree hierarchy for subfolder-generation; level one depth.\n",
    "Fold_L2      = 4                                        # Tree hierarchy for subfolder-generation; level two depth.\n",
    "\n",
    "GenInstance  = generate.DBGenerator(ProjName, FragStrucLib, CoreStrucFID, StrucLib, MergePath, GuessPath, DBPath, Fold_L1, Fold_L2)\n",
    "FINGERPRINTS = GenInstance.gen_fingers()"
   ]
  },
  {
   "cell_type": "markdown",
   "id": "97af081a",
   "metadata": {},
   "source": [
    "### Database-reduction Input\n",
    "In case the core structure follows some symmetry rules or you want to specify additional rules for the database generation (\"any structure should have one phenyl group at most\"), please use the templates below to adapt the Fingerprints of the database. Note, that reduction of the Database is only necessary to be performed once, since afterwards, all entries can be read from the \"Guesses\" library. "
   ]
  },
  {
   "cell_type": "code",
   "execution_count": null,
   "id": "3e43250b",
   "metadata": {},
   "outputs": [],
   "source": [
    "# Helper function for database symmetry-reduction\n",
    "# This code cell can be commented out after reduction has been performed.\n",
    "def TransformFingerprint(FingP):\n",
    "    Tuple = ()\n",
    "    for ii in range(len(FingP)):\n",
    "        CurInt = int(FingP[ii])-1\n",
    "        Tuple = Tuple + (CurInt,)\n",
    "    return Tuple"
   ]
  },
  {
   "cell_type": "code",
   "execution_count": null,
   "id": "a3b22d00",
   "metadata": {},
   "outputs": [],
   "source": [
    "# Symmetry Reduction Example for anthraquinone Below\n",
    "# This code cell can be commented out after reduction has been performed.\n",
    "\n",
    "# Initialize a mapping-matrix with all possible combinations of position and substient as \"active\".\n",
    "# Every mapping address that reads \"one\" after reduction will be considered \"alive\" for generation.\n",
    "ValidMatrix = np.ones((7, 7, 7, 7, 7, 7, 7, 7))\n",
    "\n",
    "# Now, go through all FINGERPRINTS and translate the current ii-th fingerprint a mapping address.\n",
    "for ii in range(len(FINGERPRINTS)):\n",
    "    CURMAP = TransformFingerprint(FINGERPRINTS[ii])\n",
    "    # See, if this entry is currently \"alive\"\n",
    "    if ValidMatrix[CURMAP] == 1.0:\n",
    "        # If yes, generate the symmetry equivalent maps from the current map by defining what map each symmetry element would result in.\n",
    "        \n",
    "        # Symmetry Element #1 - Mirror 1\n",
    "        # R_1 would become R_8, R_2 -> R_7, ... for anthracene example, see publication. Remember, python indices start from 0.\n",
    "        MIR1 = (CURMAP[7], CURMAP[6], CURMAP[5], CURMAP[4], CURMAP[3], CURMAP[2], CURMAP[1], CURMAP[0])\n",
    "        \n",
    "        # Symmetry Element #2 - Mirror 2; 1 -> 4, 2 -> 3, ...\n",
    "        MIR2 = (CURMAP[3], CURMAP[2], CURMAP[1], CURMAP[0], CURMAP[7], CURMAP[6], CURMAP[5], CURMAP[4])\n",
    "        \n",
    "        # Symmetry Element #3 - Inversion\n",
    "        INV  = (CURMAP[4], CURMAP[5], CURMAP[6], CURMAP[7], CURMAP[0], CURMAP[1], CURMAP[2], CURMAP[3])\n",
    "        \n",
    "        # Rotation around Oxygen-Oxygen Axis == MIR1\n",
    "        # Rotation around perpendicular Axis == MIR2\n",
    "        # Rotation inside the z-plane        == INV\n",
    "        \n",
    "        # Remove all \"redundant\" structures that can be generated by symmetry from the current fingerprint:\n",
    "        # if the symmetry-map is _not_ the same as the current map, set its ValidMatrix element to 0.\n",
    "        if MIR1 != CURMAP:\n",
    "            ValidMatrix[MIR1] = 0\n",
    "        if MIR2 != CURMAP:\n",
    "            ValidMatrix[MIR2] = 0\n",
    "        if INV  != CURMAP:\n",
    "            ValidMatrix[INV]  = 0\n",
    "\n",
    "# Collect all non-zero maps and transform back to a list of valid fingerprints in the same, previous data format\n",
    "# (i.e. a list of nparrays that contain floats)\n",
    "Valids = np.where(ValidMatrix == 1.0)\n",
    "ReFing = []\n",
    "for ii in range(len(Valids[:][0])):\n",
    "    CurValid = [int(Valids[:][0][ii])*1.0, int(Valids[:][1][ii])*1.0, int(Valids[:][2][ii])*1.0, int(Valids[:][3][ii])*1.0,\n",
    "                int(Valids[:][4][ii])*1.0, int(Valids[:][5][ii])*1.0, int(Valids[:][6][ii])*1.0, int(Valids[:][7][ii])*1.0]\n",
    "    ReFing.append(np.asanyarray(CurValid))\n",
    "    \n",
    "# Overwrite the fingerprints - _both_ the local copy as well as the object attribute!\n",
    "FINGERPRINTS = dc(ReFing)\n",
    "GenInstance.FINGERPRINTS = dc(ReFing)"
   ]
  },
  {
   "cell_type": "code",
   "execution_count": null,
   "id": "b4610100",
   "metadata": {},
   "outputs": [],
   "source": [
    "# Write the Guess Structure Library to file after database reduction.\n",
    "# This code cell can be commented out after reduction has been performed.\n",
    "StrucLib = \"./Guesses_{}.library\".format(ProjName)\n",
    "LID   = open(StrucLib, \"w\")\n",
    "for ii in range(len(FINGERPRINTS)):\n",
    "    LocFing    = FINGERPRINTS[ii]\n",
    "    FingString = \"\"\n",
    "    LocLead    = FINGERPRINTS[ii][0]\n",
    "    for jj in range(len(LocFing)-1):\n",
    "        FingString += str(int(LocFing[jj]))+\",\"\n",
    "    FingString += str(int(LocFing[-1]))\n",
    "    # Generate the Level 1 path depending on Fold_L1\n",
    "    Aux = \"\"\n",
    "    for jj in range(Fold_L1):\n",
    "        Aux += \"{}_\".format(int(FINGERPRINTS[ii][jj]))\n",
    "    LocPL1 = Aux.rstrip(Aux[-1])+\"/\"\n",
    "    # Generate the Level 2 path depending on Fold_L2\n",
    "    Aux = \"\"\n",
    "    for jj in range(Fold_L2):\n",
    "        Aux += \"{}_\".format(int(FINGERPRINTS[ii][jj]))\n",
    "    LocPL2 = Aux.rstrip(Aux[-1])+\"/\"\n",
    "    LocPath = GuessPath+LocPL1+LocPL2+\"Guess_\"+FingString+\".xyz\"\n",
    "    LocLib  = \"{}{}\\t\\t\\t{}\\t\\t\\t{}\\n\".format(ProjName, ii+1, FingString, LocPath)\n",
    "    LID.write(LocLib)\n",
    "LID.close()"
   ]
  },
  {
   "cell_type": "markdown",
   "id": "29b2bbc4",
   "metadata": {},
   "source": [
    "### Database retrieval\n",
    "In case that the database was reduced by symmetry or other rules, we can skip this lengthy process after it has been performed once. "
   ]
  },
  {
   "cell_type": "code",
   "execution_count": null,
   "id": "486d401e",
   "metadata": {},
   "outputs": [],
   "source": [
    "# # Skip symmetry determination, if all (symmetry)-reduced structures have been written to GuessLib file already.\n",
    "# FID  = open(StrucLib, \"r\")\n",
    "# FLoc = FID.readlines()\n",
    "# FID.close()\n",
    "# FList = []\n",
    "# FingLen = len((FLoc[0].split()[1]).split(\",\"))\n",
    "# for ii in range(len(FLoc)):\n",
    "#     Aux   = (FLoc[ii].split()[1]).split(\",\")\n",
    "#     LocFP = [int(x)*1.0 for x in Aux]\n",
    "#     FList.append(np.asanyarray(LocFP))\n",
    "# FINGERPRINTS = dc(FList)\n",
    "# GenInstance.FINGERPRINTS = dc(FList)\n",
    "# print(\"Keeping {} entries that have unique fingerprints.\".format(len(FList)))"
   ]
  },
  {
   "cell_type": "markdown",
   "id": "f543cc94",
   "metadata": {},
   "source": [
    "# PART A Cells"
   ]
  },
  {
   "cell_type": "markdown",
   "id": "53f94adb",
   "metadata": {},
   "source": [
    "### Sampling N random structures for Training / Testing / Predictions\n",
    "This part may be run independently from Part A or C."
   ]
  },
  {
   "cell_type": "code",
   "execution_count": null,
   "id": "22ca91e6",
   "metadata": {},
   "outputs": [],
   "source": [
    "# Specify the static \"Sampled\" library. This file will keep track of which structures have already been sampled before.\n",
    "# Do not change this name after the first sampling.\n",
    "SampLib   = \"./SampleLib_{}\".format(ProjName)\n",
    "\n",
    "# Specify the local subset library name. These should be unique every time you want to sample a subset.\n",
    "LocSetLib = \"./Sample_1k_1_{}\".format(ProjName)\n",
    "\n",
    "# Specify the number of desired samples drawn from the full library.\n",
    "NSamp     = 1000\n",
    "\n",
    "# Flavor of Randomness. False means that system time is used for ensuring randomness. True sets a fixed RandomSeed; which is only really useful for debugging purposes.\n",
    "FixedSeed  = False"
   ]
  },
  {
   "cell_type": "code",
   "execution_count": null,
   "id": "c954db79",
   "metadata": {
    "scrolled": true
   },
   "outputs": [],
   "source": [
    "# Generate a sample.\n",
    "GenInstance.sample(SampLib, LocSetLib, NSamp, FixedSeed)"
   ]
  },
  {
   "cell_type": "markdown",
   "id": "9c1e91c5",
   "metadata": {},
   "source": [
    "# PART B Cells"
   ]
  },
  {
   "cell_type": "markdown",
   "id": "db5f9a6c",
   "metadata": {},
   "source": [
    "### Generation of Guess Structures\n",
    "Parallelised, recursive Generation of .xyz files for all Fingerprints given in the current sample. To save memory, each fingerprint is resolved in an \"individual iterative way\" before dumping the structure to disk."
   ]
  },
  {
   "cell_type": "code",
   "execution_count": null,
   "id": "82237524",
   "metadata": {},
   "outputs": [],
   "source": [
    "# Read in a selected Sample File to limit the generator to a subset.\n",
    "GenSample  = \"./Sample_1k_1_{}\".format(ProjName)              # Sample, for which Guess structures shall be generated.\n",
    "SubFings   = []\n",
    "\n",
    "FID  = open(GenSample, \"r\")\n",
    "FLoc = FID.readlines()\n",
    "FID.close()\n",
    "for ii in range(len(FLoc)):\n",
    "    LocFing = FLoc[ii].split()[1]\n",
    "    Aux     = [float(LocFing.split(\",\")[jj]) for jj in range(len(LocFing.split(\",\")))]\n",
    "    SubFings.append(Aux)"
   ]
  },
  {
   "cell_type": "code",
   "execution_count": null,
   "id": "1678bbea",
   "metadata": {},
   "outputs": [],
   "source": [
    "# This cell generates all xyz structures in memory.\n",
    "cnt   = 0\n",
    "tTot  = 0\n",
    "incnt = 0\n",
    "now   = time.time()\n",
    "JUNCS = [\"0\"]*len(SubFings)\n",
    "MAPS  = [\"0\"]*len(SubFings)\n",
    "\n",
    "# Parallelized in-memory generation of all structures. This could be re-wirtten to a direct dumping, theoretically...\n",
    "with concurrent.futures.ProcessPoolExecutor() as executor:\n",
    "    results = executor.map(full_junc_once, [(SubFings[ii], GenInstance.CORE, GenInstance.FRAGMENTS, GenInstance.NSub, GenInstance.FLAGS) for ii in range(len(SubFings))])\n",
    "    cnt     = 0\n",
    "    for result in results:\n",
    "        JUNCS[cnt] = result[0]\n",
    "        MAPS[cnt]  = result[1]\n",
    "        cnt  += 1\n",
    "        Perc  = cnt / len(SubFings)\n",
    "        UpdThrsh = 0.001\n",
    "        if Perc > UpdThrsh+(incnt*UpdThrsh):\n",
    "            then  = time.time()\n",
    "            tReq  = then-now\n",
    "            tTot += tReq\n",
    "            mReq  = tTot / cnt\n",
    "            Rem = float(len(SubFings)-cnt)*mReq\n",
    "            clear_output(wait=True)\n",
    "            STR1 = \"Finished {:.2f} % ({}) of all structures ({}) in {:.1f} seconds ({}).\\n\".format(Perc*100, cnt, len(SubFings), tTot, timeconv(tTot),)\n",
    "            STR2 = \"Required {:.3f} seconds on average for each structure.\\n\".format(mReq)\n",
    "            STR3 = \"Expecting {:.1f} seconds remaining.({})\\n\".format(Rem, timeconv(Rem))\n",
    "            print(STR1+STR2+STR3)\n",
    "            incnt += 1\n",
    "            now    = time.time()"
   ]
  },
  {
   "cell_type": "code",
   "execution_count": null,
   "id": "06a0a42f",
   "metadata": {},
   "outputs": [],
   "source": [
    "# This cell will save all xyz structures to hard-disk. On-the-fly writing of the structure library at the same time.\n",
    "cnt   = 0\n",
    "tTot  = 0\n",
    "incnt = 0\n",
    "now   = time.time()\n",
    "\n",
    "for ii in range(len(JUNCS)):\n",
    "    LocNAt     = len(JUNCS[ii])\n",
    "    LocFing    = MAPS[ii]\n",
    "    LocGeom    = JUNCS[ii]\n",
    "    FingString = \"\"\n",
    "    LocLead    = MAPS[ii][0]\n",
    "    for jj in range(len(LocFing)-1):\n",
    "        FingString += str(int(LocFing[jj]))+\",\"\n",
    "    FingString += str(int(LocFing[-1]))\n",
    "    # Generate the Level 1 path depending on Fold_L1\n",
    "    Aux = \"\"\n",
    "    for jj in range(Fold_L1):\n",
    "        Aux += \"{}_\".format(int(MAPS[ii][jj]))\n",
    "    LocPL1 = Aux.rstrip(Aux[-1])+\"/\"\n",
    "    # Generate the Level 2 path depending on Fold_L2\n",
    "    Aux = \"\"\n",
    "    for jj in range(Fold_L2):\n",
    "        Aux += \"{}_\".format(int(MAPS[ii][jj]))\n",
    "    LocPL2 = Aux.rstrip(Aux[-1])+\"/\"\n",
    "    LocPath = GuessPath+LocPL1+LocPL2+\"Guess_\"+FingString+\".xyz\"\n",
    "    OID = open(LocPath, 'w')\n",
    "    OID.write('{}\\n'.format(LocNAt))\n",
    "    OID.write(FingString+\"\\n\")\n",
    "    for jj in range(len(LocGeom)):\n",
    "        OID.write('{}   {:>10.7f}   {:>10.7f}   {:>10.7f}   !{}\\n'.format(PSEIDICT[LocGeom[jj][3]], LocGeom[jj][0], LocGeom[jj][1],\n",
    "                                                                          LocGeom[jj][2], int(LocGeom[jj][4])))\n",
    "    OID.close()\n",
    "    cnt  += 1\n",
    "    Perc  = cnt / len(SubFings)\n",
    "    UpdThrsh = 0.001\n",
    "    if Perc > UpdThrsh+(incnt*UpdThrsh):\n",
    "        then  = time.time()\n",
    "        tReq  = then-now\n",
    "        tTot += tReq\n",
    "        mReq  = tTot / cnt\n",
    "        Rem   = float(len(SubFings)-cnt)*mReq\n",
    "        clear_output(wait=True)\n",
    "        STR1  = \"Finished {:.2f} % ({}) of all structures ({}) in {:.1f} seconds ({}).\\n\".format(Perc*100, cnt, len(SubFings), tTot, timeconv(tTot),)\n",
    "        STR2  = \"Required {:.3f} seconds on average for each structure.\\n\".format(mReq)\n",
    "        STR3  = \"Expecting {:.1f} seconds remaining.({})\\n\".format(Rem, timeconv(Rem))\n",
    "        print(STR1+STR2+STR3)\n",
    "        incnt += 1\n",
    "        now    = time.time()"
   ]
  },
  {
   "cell_type": "markdown",
   "id": "acad8c2a",
   "metadata": {},
   "source": [
    "# PART C Cells\n",
    "This part may be run independently from Part A or B - but requires the existence of some libraries that were generated with Part B at some point."
   ]
  },
  {
   "cell_type": "markdown",
   "id": "051dcbaf",
   "metadata": {},
   "source": [
    "#### Step 1 - Use a selected Subset for generating Pre-Optimization calculations"
   ]
  },
  {
   "cell_type": "code",
   "execution_count": null,
   "id": "b1038415",
   "metadata": {},
   "outputs": [],
   "source": [
    "# Specify, for which (sub)library to generate the input files.\n",
    "GenLib     = \"./Sample_1k_1_{}\".format(ProjName)\n",
    "# Specify, for which external quantum-chemistry program to generate calculation inputs.\n",
    "QCPack     = \"g16\"\n",
    "# Specify, which calculation type to generate.\n",
    "CalType    = \"PreOpt\"\n",
    "# Specify, which calculation flavor to use.\n",
    "CalFlav    = \"PM6\"\n",
    "# Specify a name of the calculation path library that is to be written. (This may make it easier for you to start thousands of calculations on a HPC system)\n",
    "CalPathLib = \"./SampleCalcs_1k_1_{}\".format(ProjName)"
   ]
  },
  {
   "cell_type": "code",
   "execution_count": null,
   "id": "db79468f",
   "metadata": {},
   "outputs": [],
   "source": [
    "# Generate the input files for PreOpts and path library.\n",
    "GenInstance.gen_calcs(GenLib, QCPack, CalType, CalFlav, CalPathLib)"
   ]
  },
  {
   "cell_type": "code",
   "execution_count": null,
   "id": "e6a7bf32",
   "metadata": {},
   "outputs": [],
   "source": [
    "# Run PreOpt Calculations with the external software now."
   ]
  },
  {
   "cell_type": "markdown",
   "id": "d51ce385",
   "metadata": {},
   "source": [
    "#### Step 2 - Run the Semi-Empirical Orbital Energy calculations"
   ]
  },
  {
   "cell_type": "code",
   "execution_count": null,
   "id": "0d5c2a4b",
   "metadata": {},
   "outputs": [],
   "source": [
    "# Specify, which calculation type to generate.\n",
    "CalType    = \"OrbEns\"\n",
    "# Specify, which calculation flavor to use.\n",
    "CalFlav    = \"PM6\""
   ]
  },
  {
   "cell_type": "code",
   "execution_count": null,
   "id": "850e3762",
   "metadata": {},
   "outputs": [],
   "source": [
    "# Generate the input files and path library.\n",
    "GenInstance.gen_calcs(GenLib, QCPack, CalType, CalFlav, CalPathLib)"
   ]
  },
  {
   "cell_type": "code",
   "execution_count": null,
   "id": "5abce827",
   "metadata": {},
   "outputs": [],
   "source": [
    "# Run OrbEns Calculations with the external software now."
   ]
  },
  {
   "cell_type": "markdown",
   "id": "95d537a9",
   "metadata": {},
   "source": [
    "#### Step 3 - After Pre-Optimization, run the Optimization"
   ]
  },
  {
   "cell_type": "code",
   "execution_count": null,
   "id": "d36768df",
   "metadata": {},
   "outputs": [],
   "source": [
    "# Specify, which calculation type to generate.\n",
    "CalType    = \"Opt_Solv\"\n",
    "# Specify, which calculation flavor to use.\n",
    "CalFlav    = \"B3LGDS\"\n",
    "CalSolv    = \"Benzene\""
   ]
  },
  {
   "cell_type": "code",
   "execution_count": null,
   "id": "b0be0ea5",
   "metadata": {},
   "outputs": [],
   "source": [
    "# Generate the input files and path library.\n",
    "GenInstance.gen_calcs(GenLib, QCPack, CalType, CalFlav, CalPathLib, solvent=CalSolv)"
   ]
  },
  {
   "cell_type": "code",
   "execution_count": null,
   "id": "4072ad69",
   "metadata": {},
   "outputs": [],
   "source": [
    "# Run Optimization Calculations with the external software now."
   ]
  },
  {
   "cell_type": "markdown",
   "id": "b436b9cc",
   "metadata": {},
   "source": [
    "#### Step 4 - Run the TDDFT calculations (here, singlets only)"
   ]
  },
  {
   "cell_type": "code",
   "execution_count": null,
   "id": "6033f774",
   "metadata": {},
   "outputs": [],
   "source": [
    "# Specify, which calculation type to generate.\n",
    "CalType    = \"TDSn_Solv\"\n",
    "# Specify, which calculation flavor to use.\n",
    "CalFlav    = \"B3LGDS\"\n",
    "CalSolv    = \"Benzene\"\n",
    "# Specify further arguments for your desired calculation. For example the number of excited states to calculate.\n",
    "# Number of states to be calculated in the TDDFT calculation.\n",
    "nstates    = 6"
   ]
  },
  {
   "cell_type": "code",
   "execution_count": null,
   "id": "65e7196f",
   "metadata": {},
   "outputs": [],
   "source": [
    "# Generate the input files and path library.\n",
    "GenInstance.gen_calcs(GenLib, QCPack, CalType, CalFlav, CalPathLib, nstates=nstates, solvent=CalSolv)"
   ]
  },
  {
   "cell_type": "code",
   "execution_count": null,
   "id": "70f0b15b",
   "metadata": {},
   "outputs": [],
   "source": [
    "# Run Optimization Calculations with the external software now."
   ]
  }
 ],
 "metadata": {
  "kernelspec": {
   "display_name": "Python 3 (ipykernel)",
   "language": "python",
   "name": "python3"
  },
  "language_info": {
   "codemirror_mode": {
    "name": "ipython",
    "version": 3
   },
   "file_extension": ".py",
   "mimetype": "text/x-python",
   "name": "python",
   "nbconvert_exporter": "python",
   "pygments_lexer": "ipython3",
   "version": "3.7.16"
  }
 },
 "nbformat": 4,
 "nbformat_minor": 5
}
